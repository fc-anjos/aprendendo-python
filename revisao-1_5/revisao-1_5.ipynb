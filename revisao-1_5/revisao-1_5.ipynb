{
 "cells": [
  {
   "cell_type": "markdown",
   "metadata": {},
   "source": [
    "## 0. Objetivo\n",
    "\n",
    "Ao estudarmos os diferentes assuntos até agora, todos foram apresentados de forma relativamente artificial para que pudéssemos enfatizar as características de cada um deles.\n",
    "\n",
    "Voltaremos agora aos assuntos já tratados, porém misturando as diferentes funcionalidades para a análise de dados em casos mais reais."
   ]
  },
  {
   "cell_type": "markdown",
   "metadata": {},
   "source": [
    "## 1. Variáveis\n",
    "\n",
    "As variáveis podem ser pensadas como caixas que guardam um conteúdo e nos permitem fazer referência à esse conteúdo diversas vezes."
   ]
  },
  {
   "cell_type": "code",
   "execution_count": 88,
   "metadata": {},
   "outputs": [
    {
     "name": "stdout",
     "output_type": "stream",
     "text": [
      "Conteúdo\n"
     ]
    }
   ],
   "source": [
    "string_1 = 'Conteúdo'\n",
    "\n",
    "print(string_1)"
   ]
  },
  {
   "cell_type": "markdown",
   "metadata": {},
   "source": [
    "Porém, tal metáfora é incompleta. Pois em python podemos nos referir ao mesmo conteúdo por diferentes nomes de variáveis. Podemos melhorar nossa metáfora pensando assim nas variáveis como etiquetas ao conteúdo que nos permitem referir à eles"
   ]
  },
  {
   "cell_type": "code",
   "execution_count": 85,
   "metadata": {},
   "outputs": [
    {
     "name": "stdout",
     "output_type": "stream",
     "text": [
      "Conteúdo\n"
     ]
    }
   ],
   "source": [
    "string_2 = string_1\n",
    "print(string_2)"
   ]
  },
  {
   "cell_type": "raw",
   "metadata": {},
   "source": [
    "Tal cópia é conhecida como \"cópia rasa\" pois não está atrelada ao conteúdo original.\n"
   ]
  },
  {
   "cell_type": "code",
   "execution_count": 86,
   "metadata": {},
   "outputs": [
    {
     "name": "stdout",
     "output_type": "stream",
     "text": [
      "Conteúdo modificado\n",
      "Conteúdo\n"
     ]
    }
   ],
   "source": [
    "string_1 = 'Conteúdo modificado'\n",
    "\n",
    "print(string_1)\n",
    "print(string_2)"
   ]
  },
  {
   "cell_type": "markdown",
   "metadata": {},
   "source": [
    "Quanto aos tipos numéricos (float e int), os operadores matemáticos fornecem uma notação curta para modificá-los.\n",
    "\n",
    "Tal notação é muito útil para modificar a variável diversas vezes."
   ]
  },
  {
   "cell_type": "code",
   "execution_count": 87,
   "metadata": {},
   "outputs": [
    {
     "name": "stdout",
     "output_type": "stream",
     "text": [
      "1\n"
     ]
    }
   ],
   "source": [
    "valor_inicial = 0\n",
    "valor_inicial += 1\n",
    "\n",
    "print(valor_inicial)"
   ]
  },
  {
   "cell_type": "markdown",
   "metadata": {},
   "source": [
    "## 2. Strings\n",
    "\n",
    "As strings são sequências de caracteres. O nome string, fio em inglês, pode ser compreendido em uma imagem: uma série de caracterese, como miçangas, presas por uma corda que as transpassa.\n",
    "\n",
    "Nos exemplos anteriores, nossas strings estavam presentes no próprio arquivo python. Uma situação mais comum, porém, é que ela seja lida de um arquivo externo. Veremos agora como fazê-lo."
   ]
  },
  {
   "cell_type": "code",
   "execution_count": 63,
   "metadata": {},
   "outputs": [
    {
     "name": "stdout",
     "output_type": "stream",
     "text": [
      "No meio do caminho tinha uma pedra\n",
      "tinha uma pedra no meio do caminho\n",
      "tinha uma pedra\n",
      "no meio do caminho tinha uma pedra.\n",
      "\n",
      "Nunca me esquecerei desse acontecimento\n",
      "na vida de minhas retinas tão fatigadas.\n",
      "Nunca me esquecerei que no meio do caminho\n",
      "tinha uma pedra\n",
      "tinha uma pedra no meio do caminho\n",
      "no meio do caminho tinha uma pedra.\n",
      "\n"
     ]
    }
   ],
   "source": [
    "arquivo = open(\"no_meio_do_caminho.txt\", \"r\", encoding=\"utf-8\")\n",
    "conteudo_arquivo = arquivo.read()\n",
    "print(conteudo_arquivo)"
   ]
  },
  {
   "cell_type": "markdown",
   "metadata": {},
   "source": [
    "## Novas funções para Strings (Métodos)\n",
    "\n",
    "Revisitando agora as strings com conhecimentos sobre funções, podemos conhecer algumas de suas funções mais clássicas. As funções que são utilizadas por alguma classe são conhecidas como 'métodos'. Alguns métodos da classe string são: replace e split"
   ]
  },
  {
   "cell_type": "markdown",
   "metadata": {},
   "source": [
    "### Replace\n",
    "O método replace substitui a palavra utilizada no primeiro argumento pela palavra utilizada no segundo argumento\n"
   ]
  },
  {
   "cell_type": "code",
   "execution_count": 106,
   "metadata": {},
   "outputs": [
    {
     "name": "stdout",
     "output_type": "stream",
     "text": [
      "No meio do caminho tinha uma podre\n",
      "tinha uma podre no meio do caminho\n",
      "tinha uma podre\n",
      "no meio do caminho tinha uma podre.\n",
      "\n",
      "Nunca me esquecerei desse acontecimento\n",
      "na vida de minhas retinas tão fatigadas.\n",
      "Nunca me esquecerei que no meio do caminho\n",
      "tinha uma podre\n",
      "tinha uma podre no meio do caminho\n",
      "no meio do caminho tinha uma podre.\n",
      "\n"
     ]
    }
   ],
   "source": [
    "conteudo_modificado = conteudo_arquivo.replace('pedra', 'podre')\n",
    "print(conteudo_modificado)"
   ]
  },
  {
   "cell_type": "code",
   "execution_count": 109,
   "metadata": {},
   "outputs": [
    {
     "name": "stdout",
     "output_type": "stream",
     "text": [
      "No meio do caminho tinha uma podre\n",
      "tinha uma pedra no meio do caminho\n",
      "tinha uma pedra\n",
      "no meio do caminho tinha uma pedra.\n",
      "\n",
      "Nunca me esquecerei desse acontecimento\n",
      "na vida de minhas retinas tão fatigadas.\n",
      "Nunca me esquecerei que no meio do caminho\n",
      "tinha uma pedra\n",
      "tinha uma pedra no meio do caminho\n",
      "no meio do caminho tinha uma pedra.\n",
      "\n"
     ]
    }
   ],
   "source": [
    "# O terceiro argumento, opcional, indica quantas vezes a substituição deve ocorrer\n",
    "conteudo_modificado_2 = conteudo_arquivo.replace('pedra', 'podre', 1) \n",
    "print(conteudo_modificado_2)"
   ]
  },
  {
   "cell_type": "markdown",
   "metadata": {},
   "source": []
  },
  {
   "cell_type": "code",
   "execution_count": 122,
   "metadata": {},
   "outputs": [
    {
     "name": "stdout",
     "output_type": "stream",
     "text": [
      "No meio do caminho tinha uma pedra\n",
      "tinha uma pedra no meio do caminho\n",
      "tinha uma pedra\n",
      "no meio do caminho tinha uma pedra.\n",
      "\n",
      "Nunca me esquecerei desse acontecimento\n",
      "na vida de minhas retinas tão fatigadas.\n",
      "Nunca me esquecerei que no meio do caminho\n",
      "tinha uma pedra\n",
      "tinha uma pedra no meio do caminho\n",
      "no meio do caminho tinha uma pedra.\n",
      "\n"
     ]
    }
   ],
   "source": [
    "print(conteudo_arquivo.strip('pedra'))"
   ]
  },
  {
   "cell_type": "markdown",
   "metadata": {},
   "source": [
    "### 2.1 Caracteres especiais\n",
    "\n",
    "Ao utilizarmos a função print para um texto, os caracteres especiais são formatados. Vejamos o que acontence por trás da cortina."
   ]
  },
  {
   "cell_type": "code",
   "execution_count": 110,
   "metadata": {},
   "outputs": [
    {
     "name": "stdout",
     "output_type": "stream",
     "text": [
      "Hello World\n"
     ]
    }
   ],
   "source": [
    "print('Hello World')"
   ]
  },
  {
   "cell_type": "code",
   "execution_count": 111,
   "metadata": {},
   "outputs": [
    {
     "name": "stdout",
     "output_type": "stream",
     "text": [
      "Hello \n",
      " World\n"
     ]
    }
   ],
   "source": [
    "print('Hello \\n World')"
   ]
  },
  {
   "cell_type": "code",
   "execution_count": 112,
   "metadata": {},
   "outputs": [
    {
     "name": "stdout",
     "output_type": "stream",
     "text": [
      "Hello \t World\n"
     ]
    }
   ],
   "source": [
    "print('Hello \\t World')"
   ]
  },
  {
   "cell_type": "markdown",
   "metadata": {},
   "source": [
    "Para fazer o print de uma string sem formatação de seus caracteres especiais, adicionamos o caracter r antes da string. Este r é a inicial da palavra raw em inglês, pois significa que a string está crua, sem formatação."
   ]
  },
  {
   "cell_type": "code",
   "execution_count": 113,
   "metadata": {},
   "outputs": [
    {
     "name": "stdout",
     "output_type": "stream",
     "text": [
      "Hello \\n World\n"
     ]
    }
   ],
   "source": [
    "print(r'Hello \\n World')"
   ]
  },
  {
   "cell_type": "markdown",
   "metadata": {},
   "source": [
    "Tendo em vista os caracteres especiais, voltemos ao poema de Drummond para conhecer o método split, que separa uma string em uma lista, utilizando como delimitador o caracter passado como argumento."
   ]
  },
  {
   "cell_type": "markdown",
   "metadata": {},
   "source": [
    "### Listas e o método split"
   ]
  },
  {
   "cell_type": "code",
   "execution_count": 123,
   "metadata": {},
   "outputs": [
    {
     "name": "stdout",
     "output_type": "stream",
     "text": [
      "['No meio do caminho tinha uma pedra', 'tinha uma pedra no meio do caminho', 'tinha uma pedra', 'no meio do caminho tinha uma pedra.', '', 'Nunca me esquecerei desse acontecimento', 'na vida de minhas retinas tão fatigadas.', 'Nunca me esquecerei que no meio do caminho', 'tinha uma pedra', 'tinha uma pedra no meio do caminho', 'no meio do caminho tinha uma pedra.', '']\n"
     ]
    }
   ],
   "source": [
    "linhas = conteudo_arquivo.split('\\n')\n",
    "print(linhas)"
   ]
  },
  {
   "cell_type": "markdown",
   "metadata": {},
   "source": [
    "Nosso texto agora está dividido por linhas em uma lista, cada linhaa é um um elemento dessa lista e uma string"
   ]
  },
  {
   "cell_type": "code",
   "execution_count": 124,
   "metadata": {},
   "outputs": [
    {
     "name": "stdout",
     "output_type": "stream",
     "text": [
      "<class 'list'>\n",
      "12\n"
     ]
    }
   ],
   "source": [
    "print(type(linhas)) #Tipo da variável linhas\n",
    "print(len(linhas)) #Quantos elementos há na lista"
   ]
  },
  {
   "cell_type": "markdown",
   "metadata": {},
   "source": [
    "### For loops"
   ]
  },
  {
   "cell_type": "code",
   "execution_count": 125,
   "metadata": {},
   "outputs": [
    {
     "name": "stdout",
     "output_type": "stream",
     "text": [
      "No meio do caminho tinha uma pedra\n",
      "tinha uma pedra no meio do caminho\n",
      "tinha uma pedra\n",
      "no meio do caminho tinha uma pedra.\n",
      "\n",
      "Nunca me esquecerei desse acontecimento\n",
      "na vida de minhas retinas tão fatigadas.\n",
      "Nunca me esquecerei que no meio do caminho\n",
      "tinha uma pedra\n",
      "tinha uma pedra no meio do caminho\n",
      "no meio do caminho tinha uma pedra.\n",
      "\n"
     ]
    }
   ],
   "source": [
    "for linha in linhas:\n",
    "    print(linha) #Print linha a linha"
   ]
  },
  {
   "cell_type": "markdown",
   "metadata": {},
   "source": [
    "Vamos começar a fazer perguntas à esses dados.\n",
    "\n",
    "Quantas linhas há no arquivo? \n",
    "\n",
    "_(Este é um arquivo pequeno, o utilizamos como exemplo para ter um feedback visual do que o nosso código faz. Mas conhecendo os métodos, podemos lidar com dados que são grande demais para serem visualizados)_"
   ]
  },
  {
   "cell_type": "code",
   "execution_count": 126,
   "metadata": {},
   "outputs": [
    {
     "name": "stdout",
     "output_type": "stream",
     "text": [
      "12\n"
     ]
    }
   ],
   "source": [
    "print(len(linhas))"
   ]
  },
  {
   "cell_type": "code",
   "execution_count": null,
   "metadata": {},
   "outputs": [],
   "source": [
    "Qual é o tamanho médio das linhas, em quantidade de caracteres?"
   ]
  },
  {
   "cell_type": "code",
   "execution_count": 128,
   "metadata": {},
   "outputs": [],
   "source": [
    "def media_caracteres(lista_linhas):\n",
    "    quantidade_caracteres = 0\n",
    "    n_linhas = 0\n",
    "    \n",
    "    for linha in lista_linhas:\n",
    "        quantidade_caracteres += len(linha)\n",
    "        n_linhas += 1\n",
    "\n",
    "        media = quantidade_caracteres/n_linhas\n",
    "        \n",
    "        return media    "
   ]
  },
  {
   "cell_type": "code",
   "execution_count": 129,
   "metadata": {},
   "outputs": [
    {
     "name": "stdout",
     "output_type": "stream",
     "text": [
      "34.0\n"
     ]
    }
   ],
   "source": [
    "print(media_caracteres(linhas))"
   ]
  },
  {
   "cell_type": "markdown",
   "metadata": {},
   "source": [
    "### While loops"
   ]
  },
  {
   "cell_type": "markdown",
   "metadata": {},
   "source": [
    "Em nossa aula de loops utilizamos principalmente os loops do tipo for, combinados com as expressões de controle de fluxo continue, pass e break. Há ainda um outro tipo de loop, chamado while (enquanto), que a cada vez que o loop é reiniciado avalia se uma expressão é verdadeira e continua se essa expressão for True"
   ]
  },
  {
   "cell_type": "code",
   "execution_count": 133,
   "metadata": {},
   "outputs": [
    {
     "name": "stdout",
     "output_type": "stream",
     "text": [
      "No meio do caminho tinha uma pedra\n",
      "tinha uma pedra no meio do caminho\n"
     ]
    }
   ],
   "source": [
    "n_linha = 0\n",
    "\n",
    "while n_linha < 2:\n",
    "    print(linhas[n_linha])\n",
    "    n_linha += 1"
   ]
  }
 ],
 "metadata": {
  "kernelspec": {
   "display_name": "Python 3",
   "language": "python",
   "name": "python3"
  },
  "language_info": {
   "codemirror_mode": {
    "name": "ipython",
    "version": 3
   },
   "file_extension": ".py",
   "mimetype": "text/x-python",
   "name": "python",
   "nbconvert_exporter": "python",
   "pygments_lexer": "ipython3",
   "version": "3.8.2"
  }
 },
 "nbformat": 4,
 "nbformat_minor": 2
}
