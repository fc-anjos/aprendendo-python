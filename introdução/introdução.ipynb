{
 "cells": [
  {
   "cell_type": "markdown",
   "metadata": {},
   "source": [
    "O que fazem os computadores?"
   ]
  },
  {
   "cell_type": "markdown",
   "metadata": {},
   "source": [
    "Cálculos. Bilhões por segundo, mas só isso."
   ]
  },
  {
   "cell_type": "markdown",
   "metadata": {},
   "source": [
    "Os computadores só fazem os cálculos que lhes são instruídos. Aqueles de nível mais básico já estão definidos, mas a his†ória da computação é a história da complexificação sucessiva através da combinação, abstração e rearranjo das definições já existentes. Nossa ideia é nos inserirmos nessa história com o desenvolvimento de ferramentas que nos são úteis para os problemas particulares da arquitetura: aqueles de ordem espacial."
   ]
  },
  {
   "cell_type": "markdown",
   "metadata": {},
   "source": [
    "Diferença entre dois tipos de conhecimento:   \n",
    "\n",
    "- Declarativo: Juízos de fato.  \n",
    "O nome de alguém dessa turma vai ser sorteado  \n",
    "\n",
    "  \n",
    "- Imperativo: (receita ou algoritmo)  \n",
    "Criarei uma lista com os nomes dos alunos, execturarei um comando para que o computador sorteie um destes alunos, exibirei o nome escolhido\n",
    "  "
   ]
  },
  {
   "cell_type": "code",
   "execution_count": 11,
   "metadata": {},
   "outputs": [
    {
     "name": "stdout",
     "output_type": "stream",
     "text": [
      "Matheus Teixeira\n"
     ]
    }
   ],
   "source": [
    "import random \n",
    "\n",
    "lista = ['Natália Fróes', 'Gabrielle Arakaki', ' Luís Piérola', 'Amanda Viana', 'Giovanna Tarricone', \n",
    "         'Bruna de Almeida', 'Maraiana de Camargo', 'Renata Gomes', 'Juliana Foot', 'Mariana Stabile', \n",
    "         'Frances Graber', 'Camina Carniel', 'Victoria Vazzolla', 'Nathalia da Costa', 'Gabriel de Camargo', \n",
    "         'Amanda Naujorks', 'Alana Bertoni', 'Felipe Santos', 'Fernanda de Oliveira', 'Matheus Teixeira', \n",
    "         'Enzo Osato', 'Gabriela Medeiros', 'Juliana Vital', 'Juliana Nascimento', 'Ricardo Cathalá', 'Nathália Rodrigues']\n",
    "\n",
    "aluno_escolhido = random.choice(lista)\n",
    "print(aluno_escolhido)"
   ]
  },
  {
   "cell_type": "markdown",
   "metadata": {},
   "source": [
    "O que é um algoritmo?  \n",
    "- Sequência de ações  \n",
    "- Controle de fluxo de como as ações são executadas\n",
    "- Quando parar qual  \n",
    "__________Input > Output__________"
   ]
  },
  {
   "cell_type": "markdown",
   "metadata": {},
   "source": [
    "Algoritmos podem ser descritos em diferentes níveis de detalhamento.  \n",
    "Algoritmo para trocar uma lâmpada:  \n",
    "    - Pegue uma lâmpada nova\n",
    "    - Desligue o interruptor\n",
    "    - Desrosqueie a lâmpada antiga\n",
    "    - Rosqueie a lâmpada nova\n",
    "    - Ligue o interruptor\n",
    "    - Descarte a lâmpada antiga \n",
    "    - Fim"
   ]
  },
  {
   "cell_type": "markdown",
   "metadata": {},
   "source": [
    "Algoritmo para desrosquear uma lâmpada:  \n",
    "    - Gire a lâmpada no sentido anti-horário\n",
    "        - Ela está desrosqueada?\n",
    "        - Não:\n",
    "            - Repita\n",
    "         - Sim:\n",
    "             - Retire a lâmpada\n",
    "    - Fim\n",
    "   "
   ]
  },
  {
   "cell_type": "markdown",
   "metadata": {},
   "source": [
    "Este exemplo tosco contém o princípio que nos permitirá elaborar programas de maior complexidade, de modo colaborativo: o da abstração.  \n",
    "Dizer 'Desrosqueie a lâmpada antiga' e o algoritmo mais detalhado de como fazê-lo são estruturas intercambiáveis.  \n",
    "Usando esse princípio poderemos nos concentrar na tarefa a ser executada e dividir o problema em problemas menores."
   ]
  },
  {
   "cell_type": "markdown",
   "metadata": {},
   "source": [
    "Em computação, o nível mais baixo (maior detalhamento) seriam programas em binário (0 e 1). Evidentemente ninguém faz isso. Diferentes linguagens de programação estão em diferentes níveis, de maior ou menor controle direto sobre o processamento. O Python é considerado uma linguagem em um nível alto (baixo controle, alta simplificação)."
   ]
  },
  {
   "cell_type": "code",
   "execution_count": null,
   "metadata": {},
   "outputs": [],
   "source": []
  }
 ],
 "metadata": {
  "kernelspec": {
   "display_name": "Python 3",
   "language": "python",
   "name": "python3"
  },
  "language_info": {
   "codemirror_mode": {
    "name": "ipython",
    "version": 3
   },
   "file_extension": ".py",
   "mimetype": "text/x-python",
   "name": "python",
   "nbconvert_exporter": "python",
   "pygments_lexer": "ipython3",
   "version": "3.6.4"
  }
 },
 "nbformat": 4,
 "nbformat_minor": 2
}
