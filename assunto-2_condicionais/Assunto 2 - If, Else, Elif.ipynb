{
 "cells": [
  {
   "cell_type": "markdown",
   "metadata": {},
   "source": [
    "Comentário sobre jupyter notebook: Cada célula é independente na execução mas se refere ao mesmo Kernel (state: variáveis guardadas)"
   ]
  },
  {
   "cell_type": "code",
   "execution_count": 6,
   "metadata": {},
   "outputs": [
    {
     "name": "stdout",
     "output_type": "stream",
     "text": [
      "Olá tópico especial\n"
     ]
    }
   ],
   "source": [
    "print(a)"
   ]
  },
  {
   "cell_type": "code",
   "execution_count": 7,
   "metadata": {},
   "outputs": [],
   "source": [
    "a = 'Olá tópico especial'"
   ]
  },
  {
   "cell_type": "code",
   "execution_count": 22,
   "metadata": {},
   "outputs": [
    {
     "name": "stdout",
     "output_type": "stream",
     "text": [
      "X é maior do que 1\n"
     ]
    }
   ],
   "source": [
    "x = 10\n",
    "y = 1\n",
    "\n",
    "if x > y:\n",
    "    print('X é maior do que 1')\n",
    "# print('fora do recuo')"
   ]
  },
  {
   "cell_type": "markdown",
   "metadata": {},
   "source": [
    "If, else e elif controlam o fluxo do programa: são as chamadas sentenças condicionais (conditional statements)"
   ]
  },
  {
   "cell_type": "code",
   "execution_count": 27,
   "metadata": {},
   "outputs": [
    {
     "name": "stdout",
     "output_type": "stream",
     "text": [
      "X não é maior do que Y\n"
     ]
    }
   ],
   "source": [
    "x = 10\n",
    "y = 15\n",
    "\n",
    "if x > y:\n",
    "    print('X é maior do que Y')\n",
    "\n",
    "else:\n",
    "    print('X não é maior do que Y')"
   ]
  },
  {
   "cell_type": "code",
   "execution_count": 28,
   "metadata": {},
   "outputs": [
    {
     "name": "stdout",
     "output_type": "stream",
     "text": [
      "X é igual a Y\n"
     ]
    }
   ],
   "source": [
    "x = 10\n",
    "y = 10\n",
    "\n",
    "if x > y:\n",
    "    print('X é maior do que Y')\n",
    "    \n",
    "elif x == y:\n",
    "    print('X é igual a Y')\n",
    "    \n",
    "else:\n",
    "    print('Y é maior do que X')"
   ]
  },
  {
   "cell_type": "code",
   "execution_count": 44,
   "metadata": {},
   "outputs": [
    {
     "name": "stdout",
     "output_type": "stream",
     "text": [
      "X é maior do que Y em pelo menos 10\n",
      "X é maior do que Y\n"
     ]
    }
   ],
   "source": [
    "x = 110\n",
    "y = 10\n",
    "\n",
    "if x == y:\n",
    "    print('X é igual a Y')\n",
    "    \n",
    "elif x > y + 10 :\n",
    "    print('X é maior do que Y em pelo menos 10')\n",
    "    \n",
    "if x > y:\n",
    "    print('X é maior do que Y')\n",
    "    \n",
    "else:\n",
    "    print('Y é maior do que X')"
   ]
  },
  {
   "cell_type": "code",
   "execution_count": 47,
   "metadata": {},
   "outputs": [
    {
     "name": "stdout",
     "output_type": "stream",
     "text": [
      "X é maior do que Y em pelo menos 10\n"
     ]
    }
   ],
   "source": [
    "x = 110\n",
    "y = 10\n",
    "\n",
    "if x == y:\n",
    "    print('X é igual a Y')\n",
    "    \n",
    "elif x > y + 10 :\n",
    "    print('X é maior do que Y em pelo menos 10')\n",
    "    \n",
    "elif x > y:\n",
    "    print('X é maior do que Y')\n",
    "    \n",
    "else:\n",
    "    print('Y é maior do que X')"
   ]
  },
  {
   "cell_type": "code",
   "execution_count": 62,
   "metadata": {},
   "outputs": [
    {
     "name": "stdout",
     "output_type": "stream",
     "text": [
      "Digite o número1\n",
      "<class 'str'>\n",
      "<class 'int'>\n"
     ]
    }
   ],
   "source": [
    "a = input('Digite o número')\n",
    "\n",
    "print(type(a))\n",
    "a = int(a)\n",
    "print(type(a))"
   ]
  },
  {
   "cell_type": "markdown",
   "metadata": {},
   "source": [
    "Exercício: Checar se o input é par ou ímpar"
   ]
  },
  {
   "cell_type": "code",
   "execution_count": null,
   "metadata": {},
   "outputs": [],
   "source": []
  }
 ],
 "metadata": {
  "kernelspec": {
   "display_name": "Python 3",
   "language": "python",
   "name": "python3"
  },
  "language_info": {
   "codemirror_mode": {
    "name": "ipython",
    "version": 3
   },
   "file_extension": ".py",
   "mimetype": "text/x-python",
   "name": "python",
   "nbconvert_exporter": "python",
   "pygments_lexer": "ipython3",
   "version": "3.6.4"
  }
 },
 "nbformat": 4,
 "nbformat_minor": 2
}
