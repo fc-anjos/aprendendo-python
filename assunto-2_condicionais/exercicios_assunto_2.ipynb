{
 "cells": [
  {
   "cell_type": "markdown",
   "metadata": {},
   "source": [
    "# Controle de fluxo e condicionais\n",
    "## Utilize as condicionais \"if\", \"else\" e \"elif\" e os controles de fluxo \"continue\", \"break\" e \"pass\" para resolver os exercícios. Talvez nem todos sejam necessários"
   ]
  },
  {
   "cell_type": "code",
   "execution_count": null,
   "metadata": {},
   "outputs": [],
   "source": [
    "# Lembra-se como podemos percorrer os valores de uma lista utilizando \"for\" ?\n",
    "\n",
    "lst = [1.2, 2, 3.0, 4] \n",
    "\n",
    "for i in lst:\n",
    "    if isinstance(i, float):\n",
    "       print(i)\n",
    "        "
   ]
  },
  {
   "cell_type": "code",
   "execution_count": null,
   "metadata": {},
   "outputs": [],
   "source": [
    "lista1 = [1, 4.9, 7, 9.0, 'rafael']\n",
    "\n",
    "for i in lista1:             \n",
    "    if isinstance(i, int):   \n",
    "        x = True             \n",
    "        print(i, \"-\", x)     \n",
    "        continue\n",
    "    else:\n",
    "        x = False   \n",
    "    print(i, \"-\", x)"
   ]
  },
  {
   "cell_type": "markdown",
   "metadata": {},
   "source": [
    "## Exercício 1\n",
    "Adapte o código acima para atribuir à uma variável x o valor True se qualquer um dos valores forem int, e False se nenhum dos valores forem do tipo int. Utilize a função isinstance para verificar à qual tipo cada valor da lista pertence, como no exemplo acima."
   ]
  },
  {
   "cell_type": "code",
   "execution_count": 3,
   "metadata": {},
   "outputs": [],
   "source": [
    "# Exercício 1\n",
    "    \n",
    "def qualquer(lista, tipo):\n",
    "    for i in lista:           \n",
    "        if isinstance(i, tipo):   \n",
    "            return True                 \n",
    "        else:    \n",
    "            return False "
   ]
  },
  {
   "cell_type": "code",
   "execution_count": 4,
   "metadata": {},
   "outputs": [
    {
     "name": "stdout",
     "output_type": "stream",
     "text": [
      "False\n"
     ]
    }
   ],
   "source": [
    "lista1 = [1.3, 4.3, 7.3, 9.5]\n",
    "tipo = int\n",
    "\n",
    "print(qualquer(lista1, tipo))"
   ]
  },
  {
   "cell_type": "markdown",
   "metadata": {},
   "source": [
    "## Exercício 2\n",
    "Adapte o código acima para atribuir à uma variável x o valor True se todos os valores forem int."
   ]
  },
  {
   "cell_type": "code",
   "execution_count": 5,
   "metadata": {},
   "outputs": [],
   "source": [
    "# Exercício 2\n",
    "\n",
    "def todos(lista, tipo):\n",
    "    for i in lista:             \n",
    "        if isinstance(i, tipo):                \n",
    "            continue\n",
    "        else:\n",
    "            return False \n",
    "    return True "
   ]
  },
  {
   "cell_type": "code",
   "execution_count": 6,
   "metadata": {},
   "outputs": [
    {
     "name": "stdout",
     "output_type": "stream",
     "text": [
      "True\n"
     ]
    }
   ],
   "source": [
    "lista1 = [1, 4, 7, 9]\n",
    "tipo = int\n",
    "\n",
    "print(todos(lista1, tipo)) "
   ]
  },
  {
   "cell_type": "markdown",
   "metadata": {},
   "source": [
    "## Exercício 3\n",
    "Adapte o código acima para atribuir à uma variável x o valor True se nenhum dos valores forem int."
   ]
  },
  {
   "cell_type": "code",
   "execution_count": 7,
   "metadata": {},
   "outputs": [],
   "source": [
    "# Exercício 3\n",
    "\n",
    "def nenhum(lista, tipo):\n",
    "    for i in lista:             \n",
    "        if isinstance(i, tipo):               \n",
    "            return False\n",
    "    \n",
    "    return True"
   ]
  },
  {
   "cell_type": "code",
   "execution_count": 8,
   "metadata": {},
   "outputs": [
    {
     "name": "stdout",
     "output_type": "stream",
     "text": [
      "True\n"
     ]
    }
   ],
   "source": [
    "lista1 = [1.3, 4.9, 7.0, 9.0, 'rafael']\n",
    "tipo = int\n",
    "\n",
    "print(nenhum(lista1,tipo))"
   ]
  }
 ],
 "metadata": {
  "kernelspec": {
   "display_name": "Python 3",
   "language": "python",
   "name": "python3"
  },
  "language_info": {
   "codemirror_mode": {
    "name": "ipython",
    "version": 3
   },
   "file_extension": ".py",
   "mimetype": "text/x-python",
   "name": "python",
   "nbconvert_exporter": "python",
   "pygments_lexer": "ipython3",
   "version": "3.6.8"
  }
 },
 "nbformat": 4,
 "nbformat_minor": 4
}
