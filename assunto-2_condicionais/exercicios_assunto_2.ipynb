{
 "cells": [
  {
   "cell_type": "markdown",
   "metadata": {},
   "source": [
    "# Controle de fluxo e condicionais\n",
    "## Utilize as condicionais \"if\", \"else\" e \"elif\" e os controles de fluxo \"continue\", \"break\" e \"pass\" para resolver os exercícios. Talvez nem todos sejam necessários"
   ]
  },
  {
   "cell_type": "code",
   "execution_count": 23,
   "metadata": {},
   "outputs": [
    {
     "name": "stdout",
     "output_type": "stream",
     "text": [
      "[2, 5.6, 6.0, 8]\n"
     ]
    }
   ],
   "source": [
    "# Lembra-se como podemos percorrer os valores de uma lista utilizando \"for\" ?\n",
    "\n",
    "lst = [1.2, 2, 3.0, 4] \n",
    "\n",
    "for i in lst:\n",
    "    if isinstance(i, float):\n",
    "        print(i)\n",
    "        "
   ]
  },
  {
   "cell_type": "markdown",
   "metadata": {},
   "source": [
    "## Exercício 1\n",
    "Adapte o código acima para atribuir à uma variável x o valor True se qualquer um dos valores forem int, e False se nenhum dos valores forem do tipo int. Utilize a função isinstance para verificar à qual tipo cada valor do array pertence, como no exemplo acima."
   ]
  },
  {
   "cell_type": "code",
   "execution_count": 32,
   "metadata": {},
   "outputs": [
    {
     "name": "stdout",
     "output_type": "stream",
     "text": [
      "1\n",
      "True\n"
     ]
    }
   ],
   "source": [
    "# Exercício 1\n",
    "    \n",
    "lista1 = [1, 4.9, 7.9, 9.0] # criar lista\n",
    "\n",
    "\n",
    "for i in lista1:      # atribuir a valiavel x True se os valores da lista forem int \n",
    "    if isinstance(i, int):\n",
    "        x = True\n",
    "        print(i)\n",
    "        break\n",
    "    else:\n",
    "        x = False \n",
    "print(x)"
   ]
  },
  {
   "cell_type": "markdown",
   "metadata": {},
   "source": [
    "## Exercício 2\n",
    "Adapte o código acima para atribuir à uma variável x o valor True se todos os valores forem int."
   ]
  },
  {
   "cell_type": "code",
   "execution_count": 7,
   "metadata": {},
   "outputs": [],
   "source": [
    "# Exercício 2"
   ]
  },
  {
   "cell_type": "markdown",
   "metadata": {},
   "source": [
    "## Exercício 3\n",
    "Adapte o código acima para atribuir à uma variável x o valor True se nenhum dos valores forem int."
   ]
  },
  {
   "cell_type": "code",
   "execution_count": null,
   "metadata": {},
   "outputs": [],
   "source": [
    "# Exercício 3"
   ]
  }
 ],
 "metadata": {
  "kernelspec": {
   "display_name": "Python 3",
   "language": "python",
   "name": "python3"
  },
  "language_info": {
   "codemirror_mode": {
    "name": "ipython",
    "version": 3
   },
   "file_extension": ".py",
   "mimetype": "text/x-python",
   "name": "python",
   "nbconvert_exporter": "python",
   "pygments_lexer": "ipython3",
   "version": "3.7.4"
  }
 },
 "nbformat": 4,
 "nbformat_minor": 4
}
