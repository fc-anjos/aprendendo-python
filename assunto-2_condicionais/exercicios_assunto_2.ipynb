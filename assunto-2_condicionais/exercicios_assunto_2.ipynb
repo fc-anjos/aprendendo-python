{
 "cells": [
  {
   "cell_type": "markdown",
   "metadata": {},
   "source": [
    "# Controle de fluxo e condicionais\n",
    "## Utilize as condicionais \"if\", \"else\" e \"elif\" e os controles de fluxo \"continue\", \"break\" e \"pass\" para resolver os exercícios. Talvez nem todos sejam necessários"
   ]
  },
  {
   "cell_type": "code",
   "execution_count": 47,
   "metadata": {},
   "outputs": [
    {
     "name": "stdout",
     "output_type": "stream",
     "text": [
      "1.2\n",
      "3.0\n"
     ]
    }
   ],
   "source": [
    "# Lembra-se como podemos percorrer os valores de uma lista utilizando \"for\" ?\n",
    "\n",
    "lst = [1.2, 2, 3.0, 4] \n",
    "\n",
    "for i in lst:\n",
    "    if isinstance(i, float):\n",
    "       print(i)\n",
    "        "
   ]
  },
  {
   "cell_type": "code",
   "execution_count": null,
   "metadata": {},
   "outputs": [],
   "source": []
  },
  {
   "cell_type": "markdown",
   "metadata": {},
   "source": [
    "## Exercício 1\n",
    "Adapte o código acima para atribuir à uma variável x o valor True se qualquer um dos valores forem int, e False se nenhum dos valores forem do tipo int. Utilize a função isinstance para verificar à qual tipo cada valor da lista pertence, como no exemplo acima."
   ]
  },
  {
   "cell_type": "code",
   "execution_count": 81,
   "metadata": {},
   "outputs": [
    {
     "name": "stdout",
     "output_type": "stream",
     "text": [
      "1 - True\n"
     ]
    }
   ],
   "source": [
    "# Exercício 1\n",
    "    \n",
    "lista1 = [1, 4.9, 7, 9.0, 'rafael']\n",
    "\n",
    "for i in lista1:             \n",
    "    if isinstance(i, int):   \n",
    "        x = True             \n",
    "        print(i, \"-\", x)     \n",
    "        break\n",
    "    else:\n",
    "        x = False   \n",
    "    print(i, \"-\", x)"
   ]
  },
  {
   "cell_type": "markdown",
   "metadata": {},
   "source": [
    "## Exercício 2\n",
    "Adapte o código acima para atribuir à uma variável x o valor True se todos os valores forem int."
   ]
  },
  {
   "cell_type": "code",
   "execution_count": 82,
   "metadata": {},
   "outputs": [
    {
     "name": "stdout",
     "output_type": "stream",
     "text": [
      "1 - True\n",
      "7 - True\n"
     ]
    }
   ],
   "source": [
    "# Exercício 2\n",
    "lista1 = [1, 4.9, 7, 9.0, 'rafael']\n",
    "\n",
    "for i in lista1:             \n",
    "    if isinstance(i, int):   \n",
    "        x = True             \n",
    "        print(i, \"-\", x)     \n",
    "        continue\n",
    "    else:\n",
    "        x = False   \n",
    "    "
   ]
  },
  {
   "cell_type": "markdown",
   "metadata": {},
   "source": [
    "## Exercício 3\n",
    "Adapte o código acima para atribuir à uma variável x o valor True se nenhum dos valores forem int."
   ]
  },
  {
   "cell_type": "code",
   "execution_count": 83,
   "metadata": {},
   "outputs": [
    {
     "name": "stdout",
     "output_type": "stream",
     "text": [
      "4.9 - False\n",
      "9.0 - False\n",
      "rafael - False\n"
     ]
    }
   ],
   "source": [
    "# Exercício 3\n",
    "\n",
    "lista1 = [1, 4.9, 7, 9.0, 'rafael']\n",
    "\n",
    "for i in lista1:             \n",
    "    if isinstance(i, int):   \n",
    "        x = True                \n",
    "        continue\n",
    "    else:\n",
    "        x = False   \n",
    "    print(i, \"-\", x)"
   ]
  }
 ],
 "metadata": {
  "kernelspec": {
   "display_name": "Python 3",
   "language": "python",
   "name": "python3"
  },
  "language_info": {
   "codemirror_mode": {
    "name": "ipython",
    "version": 3
   },
   "file_extension": ".py",
   "mimetype": "text/x-python",
   "name": "python",
   "nbconvert_exporter": "python",
   "pygments_lexer": "ipython3",
   "version": "3.7.4"
  }
 },
 "nbformat": 4,
 "nbformat_minor": 4
}
