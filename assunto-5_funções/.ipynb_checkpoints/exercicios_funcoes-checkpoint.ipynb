{
 "cells": [
  {
   "cell_type": "markdown",
   "metadata": {},
   "source": [
    "##### Exercício 1\n",
    "\n",
    "Escreva uma função para retornar o valor máximo de três números, passados como argumentos"
   ]
  },
  {
   "cell_type": "code",
   "execution_count": null,
   "metadata": {},
   "outputs": [],
   "source": []
  },
  {
   "cell_type": "markdown",
   "metadata": {},
   "source": [
    "##### Exercício 2\n",
    "\n",
    "Adapte a função acima para receber uma lista de números como argumento e retornar o valor máximo"
   ]
  },
  {
   "cell_type": "code",
   "execution_count": null,
   "metadata": {},
   "outputs": [],
   "source": []
  },
  {
   "cell_type": "markdown",
   "metadata": {},
   "source": [
    "##### Exercício 3\n",
    "\n",
    "Escreva uma função que retorna o fatorial de um número "
   ]
  },
  {
   "cell_type": "code",
   "execution_count": null,
   "metadata": {},
   "outputs": [],
   "source": []
  },
  {
   "cell_type": "markdown",
   "metadata": {},
   "source": [
    "##### Exercício 4\n",
    "\n",
    "Escreva uma função que aceita uma lista como argumento e retorna uma outra lista com os quadrados. Use a função ao_quadrado que escrevemos anteriormente na definição dessa nova função"
   ]
  },
  {
   "cell_type": "code",
   "execution_count": null,
   "metadata": {},
   "outputs": [],
   "source": []
  },
  {
   "cell_type": "markdown",
   "metadata": {},
   "source": [
    "##### Exercício 5\n",
    "\n",
    "Escreva uma função que aceita uma lista como argumento e retorna uma outra lista com os valores únicos da primeira\n",
    "\n",
    "Por exemplo:\n",
    "Input List : [1,2,3,3,3,3,4,5]\n",
    "Output List : [1, 2, 3, 4, 5]\n",
    "\n",
    "Para ajuda sobre o operador \"in\", leia \"Verificando a existência de itens em uma lista\" [aqui](https://www.devmedia.com.br/como-trabalhar-com-listas-em-python/37460)"
   ]
  },
  {
   "cell_type": "code",
   "execution_count": null,
   "metadata": {},
   "outputs": [],
   "source": []
  }
 ],
 "metadata": {
  "kernelspec": {
   "display_name": "Python 3",
   "language": "python",
   "name": "python3"
  },
  "language_info": {
   "codemirror_mode": {
    "name": "ipython",
    "version": 3
   },
   "file_extension": ".py",
   "mimetype": "text/x-python",
   "name": "python",
   "nbconvert_exporter": "python",
   "pygments_lexer": "ipython3",
   "version": "3.8.2"
  }
 },
 "nbformat": 4,
 "nbformat_minor": 2
}
