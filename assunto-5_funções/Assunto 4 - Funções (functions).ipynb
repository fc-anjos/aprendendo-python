{
 "cells": [
  {
   "cell_type": "markdown",
   "metadata": {},
   "source": [
    "Uma função é uma série de instruções."
   ]
  },
  {
   "cell_type": "code",
   "execution_count": 6,
   "metadata": {},
   "outputs": [
    {
     "name": "stdout",
     "output_type": "stream",
     "text": [
      "Cadê a função?\n"
     ]
    }
   ],
   "source": [
    "# as funções são introduzidas por def e recuos:\n",
    "def exemplo_função():\n",
    "    print('Olá funções!')\n",
    "    print('E cadê a função das funções?')\n",
    "    \n",
    "print('Cadê a função?')"
   ]
  },
  {
   "cell_type": "code",
   "execution_count": 7,
   "metadata": {},
   "outputs": [
    {
     "name": "stdout",
     "output_type": "stream",
     "text": [
      "Olá funções!\n",
      "E cadê a função das funções?\n"
     ]
    }
   ],
   "source": [
    "#a definição e a utilização das funções estão separadas\n",
    "exemplo_função()"
   ]
  },
  {
   "cell_type": "code",
   "execution_count": 8,
   "metadata": {},
   "outputs": [
    {
     "name": "stdout",
     "output_type": "stream",
     "text": [
      "Olá funções!\n",
      "E cadê a função das funções?\n",
      "Olá funções!\n",
      "E cadê a função das funções?\n"
     ]
    }
   ],
   "source": [
    "#após a definição, poderemos utilizar as funções diversas vezes\n",
    "exemplo_função()\n",
    "exemplo_função()"
   ]
  },
  {
   "cell_type": "code",
   "execution_count": 12,
   "metadata": {},
   "outputs": [
    {
     "name": "stdout",
     "output_type": "stream",
     "text": [
      "4\n",
      "9\n",
      "3600\n"
     ]
    }
   ],
   "source": [
    "# As funções podem processar inputs e retornar outputs. \n",
    "# Dentro dos parênteses da definição podemos especificar tais parâmetros:\n",
    "#O return devolve o valor e escapa da função\n",
    "\n",
    "def ao_quadrado(x):\n",
    "    return x*x"
   ]
  },
  {
   "cell_type": "code",
   "execution_count": 13,
   "metadata": {},
   "outputs": [
    {
     "name": "stdout",
     "output_type": "stream",
     "text": [
      "4\n",
      "9\n",
      "3600\n"
     ]
    }
   ],
   "source": [
    "print(ao_quadrado(2))\n",
    "print(ao_quadrado(3))\n",
    "print(ao_quadrado(60))"
   ]
  },
  {
   "cell_type": "code",
   "execution_count": 14,
   "metadata": {},
   "outputs": [
    {
     "name": "stdout",
     "output_type": "stream",
     "text": [
      "400\n"
     ]
    }
   ],
   "source": [
    "#Funções definidas com return podem ser usadar para atribuir valores\n",
    "\n",
    "lado = 20\n",
    "area_quadrado = ao_quadrado(lado)\n",
    "print(area_quadrado)"
   ]
  },
  {
   "cell_type": "markdown",
   "metadata": {},
   "source": [
    "Exercício: Implementar o teorema de pitágoras em uma função\n"
   ]
  },
  {
   "cell_type": "code",
   "execution_count": 18,
   "metadata": {},
   "outputs": [
    {
     "data": {
      "text/plain": [
       "5.0"
      ]
     },
     "execution_count": 18,
     "metadata": {},
     "output_type": "execute_result"
    }
   ],
   "source": [
    "pitagoras(3, 4)"
   ]
  }
 ],
 "metadata": {
  "kernelspec": {
   "display_name": "Python 3",
   "language": "python",
   "name": "python3"
  },
  "language_info": {
   "codemirror_mode": {
    "name": "ipython",
    "version": 3
   },
   "file_extension": ".py",
   "mimetype": "text/x-python",
   "name": "python",
   "nbconvert_exporter": "python",
   "pygments_lexer": "ipython3",
   "version": "3.6.4"
  }
 },
 "nbformat": 4,
 "nbformat_minor": 2
}
